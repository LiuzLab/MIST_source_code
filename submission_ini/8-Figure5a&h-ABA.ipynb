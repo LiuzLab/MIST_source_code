{
 "cells": [
  {
   "cell_type": "code",
   "execution_count": 1,
   "id": "clean-relay",
   "metadata": {},
   "outputs": [],
   "source": [
    "import pandas as pd\n",
    "from matplotlib import pyplot as plt\n",
    "import seaborn as sns\n",
    "from scipy.stats import pearsonr, spearmanr\n",
    "import numpy as np"
   ]
  },
  {
   "cell_type": "code",
   "execution_count": 2,
   "id": "experimental-wells",
   "metadata": {},
   "outputs": [],
   "source": [
    "def plot_scatter(a, b, genea, geneb):\n",
    "    \"\"\" Method to plot gene gene correlation with PCC and SCC scores\n",
    "    \n",
    "    Parameters:\n",
    "    ----------\n",
    "    a: gene expression of gene a\n",
    "    b: gene expression of gene b\n",
    "    genea: name of gene a\n",
    "    geneb: name of gene b\n",
    "    \n",
    "    \"\"\"\n",
    "    f = plt.figure(figsize=(4,4))\n",
    "    plt.scatter(a,b)\n",
    "    pcc = pearsonr(a, b)[0]\n",
    "    scc = spearmanr(a, b)[0]\n",
    "    plt.title(\"r=%.2f\" %(scc),\n",
    "                  fontsize=14, color=\"red\")\n",
    "    plt.xlabel(genea, fontsize=14)\n",
    "    plt.ylabel(geneb, fontsize=14)\n",
    "    plt.tick_params(labelsize=12)\n",
    "    plt.close()\n",
    "    return f"
   ]
  },
  {
   "cell_type": "code",
   "execution_count": 3,
   "id": "portable-income",
   "metadata": {},
   "outputs": [
    {
     "data": {
      "image/png": "[encoded data removed]",
      "text/plain": [
       "<Figure size 288x288 with 1 Axes>"
      ]
     },
     "execution_count": 3,
     "metadata": {},
     "output_type": "execute_result"
    }
   ],
   "source": [
    "### Figure 5c\n",
    "#https://mouse.brain-map.org/gene/show/18184 (Cldn11 - RP_070116_01_G04 - coronal)\n",
    "Cldn11 = [2.25,2.,2.34,2.52,2.83,3.3,3.4,3.07,3.5,3.54,3.45,2.56]\n",
    "#https://mouse.brain-map.org/gene/show/87786 (Arhgef10 - RP_070116_01_B05 - coronal)\n",
    "Arhgef10 = [0.2,0,0.44,0.28,0.64,0.91,1.14,0.73,1.36,1.3,1.4,0.53]\n",
    "plot_scatter(Cldn11, Arhgef10,\"Cldn11\", \"Arhgef10\")\n",
    "# f = plot_scatter(Cldn11, Arhgef10,\"Cldn11\", \"Arhgef10\")\n",
    "# f.savefig('Fig5c.png', dpi=300, bbox_inches= 'tight')"
   ]
  },
  {
   "cell_type": "code",
   "execution_count": 4,
   "id": "raised-tampa",
   "metadata": {},
   "outputs": [
    {
     "data": {
      "image/png": "[encoded data removed]",
      "text/plain": [
       "<Figure size 288x288 with 1 Axes>"
      ]
     },
     "execution_count": 4,
     "metadata": {},
     "output_type": "execute_result"
    }
   ],
   "source": [
    "### Figure 5f\n",
    "## Values for genes are from Allen Brain Atlas Mouse regional gene expression data\n",
    "#https://mouse.brain-map.org/gene/show/14356 (Gfap - RP_Baylor_253913 - coronal)\n",
    "Gfap = [0.3,1.36, 2.07,0,0.4,1.4,1.07,0.79,1.39,2.38,2.31,1.89]\n",
    "#https://mouse.brain-map.org/gene/show/11616 (Aqp4 - RP_040324_01_F07 - coronal)\n",
    "Aqp4 = [0.52,1.7,1.71,0.94,0,0.41,1.08,1.29,1.74,2.07,1.82,2.84]\n",
    "plot_scatter(Gfap, Aqp4, 'Gfap', 'Aqp4')"
   ]
  },
  {
   "cell_type": "code",
   "execution_count": null,
   "id": "45ee0cff",
   "metadata": {},
   "outputs": [],
   "source": []
  }
 ],
 "metadata": {
  "kernelspec": {
   "display_name": "Python 3",
   "language": "python",
   "name": "python3"
  },
  "language_info": {
   "codemirror_mode": {
    "name": "ipython",
    "version": 3
   },
   "file_extension": ".py",
   "mimetype": "text/x-python",
   "name": "python",
   "nbconvert_exporter": "python",
   "pygments_lexer": "ipython3",
   "version": "3.6.9"
  }
 },
 "nbformat": 4,
 "nbformat_minor": 5
}
