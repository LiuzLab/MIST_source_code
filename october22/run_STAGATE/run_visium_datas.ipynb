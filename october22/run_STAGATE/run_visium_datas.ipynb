{
 "cells": [
  {
   "cell_type": "code",
   "execution_count": 1,
   "id": "bca9c74c",
   "metadata": {},
   "outputs": [],
   "source": [
    "import warnings\n",
    "warnings.filterwarnings(\"ignore\")\n",
    "import pandas as pd\n",
    "import numpy as np\n",
    "import scanpy as sc\n",
    "import matplotlib.pyplot as plt\n",
    "import os\n",
    "import sys\n",
    "from time import sleep\n",
    "import STAGATE"
   ]
  },
  {
   "cell_type": "code",
   "execution_count": 2,
   "id": "e9a0757b",
   "metadata": {},
   "outputs": [
    {
     "data": {
      "text/plain": [
       "['Human_Breast_Cancer_Ductal_Carcinoma_FFPE',\n",
       " 'Human_Breast_Cancer_BAS1',\n",
       " 'Human_Prostate_Cancer_Adenocarcinoma_FFPE',\n",
       " 'Human_Glioblastoma',\n",
       " 'Human_Invasive_Ductal_Carcinoma',\n",
       " 'Human_Prostate_Cancer_Acinar_Cell_Carcinoma_FFPE',\n",
       " 'Human_Breast_Cancer_BAS2',\n",
       " 'Human_Ovarian_Cancer',\n",
       " 'Human_Colorectal_Cancer']"
      ]
     },
     "execution_count": 2,
     "metadata": {},
     "output_type": "execute_result"
    }
   ],
   "source": [
    "dns = os.listdir(\"../../MIST_Visium_Tumors/\")\n",
    "dns.remove('.DS_Store')\n",
    "dns"
   ]
  },
  {
   "cell_type": "code",
   "execution_count": 4,
   "id": "56e03294",
   "metadata": {},
   "outputs": [],
   "source": [
    "adata = sc.read_visium(f\"../../MIST_Visium_Tumors/Human_Breast_Cancer_BAS1\")"
   ]
  },
  {
   "cell_type": "code",
   "execution_count": 19,
   "id": "5039c5a0",
   "metadata": {},
   "outputs": [
    {
     "name": "stdout",
     "output_type": "stream",
     "text": [
      "------Calculating spatial graph...\n",
      "The graph contains 0 edges, 2518 cells.\n",
      "0.0000 neighbors per cell on average.\n",
      "Size of Input:  (2518, 3000)\n"
     ]
    },
    {
     "name": "stderr",
     "output_type": "stream",
     "text": [
      "100%|██████████████████████████████████████████████████████████████████████| 500/500 [00:42<00:00, 11.69it/s]\n"
     ]
    },
    {
     "name": "stdout",
     "output_type": "stream",
     "text": [
      "Human_Breast_Cancer_Ductal_Carcinoma_FFPE 4\n"
     ]
    },
    {
     "name": "stderr",
     "output_type": "stream",
     "text": [
      "Package 'mclust' version 5.4.9\n",
      "Type 'citation(\"mclust\")' for citing this R package in publications.\n"
     ]
    },
    {
     "name": "stdout",
     "output_type": "stream",
     "text": [
      "------Calculating spatial graph...\n",
      "The graph contains 0 edges, 3798 cells.\n",
      "0.0000 neighbors per cell on average.\n",
      "Size of Input:  (3798, 3000)\n"
     ]
    },
    {
     "name": "stderr",
     "output_type": "stream",
     "text": [
      "100%|██████████████████████████████████████████████████████████████████████| 500/500 [01:29<00:00,  5.57it/s]\n"
     ]
    },
    {
     "name": "stdout",
     "output_type": "stream",
     "text": [
      "Human_Breast_Cancer_BAS1 4\n"
     ]
    },
    {
     "name": "stderr",
     "output_type": "stream",
     "text": [
      "Package 'mclust' version 5.4.9\n",
      "Type 'citation(\"mclust\")' for citing this R package in publications.\n"
     ]
    },
    {
     "name": "stdout",
     "output_type": "stream",
     "text": [
      "------Calculating spatial graph...\n",
      "The graph contains 0 edges, 4371 cells.\n",
      "0.0000 neighbors per cell on average.\n",
      "Size of Input:  (4371, 3000)\n"
     ]
    },
    {
     "name": "stderr",
     "output_type": "stream",
     "text": [
      "100%|██████████████████████████████████████████████████████████████████████| 500/500 [01:25<00:00,  5.83it/s]\n"
     ]
    },
    {
     "name": "stdout",
     "output_type": "stream",
     "text": [
      "Human_Prostate_Cancer_Adenocarcinoma_FFPE 4\n"
     ]
    },
    {
     "name": "stderr",
     "output_type": "stream",
     "text": [
      "Package 'mclust' version 5.4.9\n",
      "Type 'citation(\"mclust\")' for citing this R package in publications.\n"
     ]
    },
    {
     "name": "stdout",
     "output_type": "stream",
     "text": [
      "------Calculating spatial graph...\n",
      "The graph contains 19620 edges, 3468 cells.\n",
      "5.6574 neighbors per cell on average.\n",
      "Size of Input:  (3468, 3000)\n"
     ]
    },
    {
     "name": "stderr",
     "output_type": "stream",
     "text": [
      "100%|██████████████████████████████████████████████████████████████████████| 500/500 [01:18<00:00,  6.38it/s]\n"
     ]
    },
    {
     "name": "stdout",
     "output_type": "stream",
     "text": [
      "Human_Glioblastoma 4\n"
     ]
    },
    {
     "name": "stderr",
     "output_type": "stream",
     "text": [
      "Package 'mclust' version 5.4.9\n",
      "Type 'citation(\"mclust\")' for citing this R package in publications.\n"
     ]
    },
    {
     "name": "stdout",
     "output_type": "stream",
     "text": [
      "------Calculating spatial graph...\n",
      "The graph contains 0 edges, 4727 cells.\n",
      "0.0000 neighbors per cell on average.\n",
      "Size of Input:  (4727, 3000)\n"
     ]
    },
    {
     "name": "stderr",
     "output_type": "stream",
     "text": [
      "100%|██████████████████████████████████████████████████████████████████████| 500/500 [01:51<00:00,  4.48it/s]\n"
     ]
    },
    {
     "name": "stdout",
     "output_type": "stream",
     "text": [
      "Human_Invasive_Ductal_Carcinoma 4\n"
     ]
    },
    {
     "name": "stderr",
     "output_type": "stream",
     "text": [
      "Package 'mclust' version 5.4.9\n",
      "Type 'citation(\"mclust\")' for citing this R package in publications.\n"
     ]
    },
    {
     "name": "stdout",
     "output_type": "stream",
     "text": [
      "------Calculating spatial graph...\n",
      "The graph contains 0 edges, 3043 cells.\n",
      "0.0000 neighbors per cell on average.\n",
      "Size of Input:  (3043, 3000)\n"
     ]
    },
    {
     "name": "stderr",
     "output_type": "stream",
     "text": [
      "100%|██████████████████████████████████████████████████████████████████████| 500/500 [01:13<00:00,  6.82it/s]\n"
     ]
    },
    {
     "name": "stdout",
     "output_type": "stream",
     "text": [
      "Human_Prostate_Cancer_Acinar_Cell_Carcinoma_FFPE 4\n"
     ]
    },
    {
     "name": "stderr",
     "output_type": "stream",
     "text": [
      "Package 'mclust' version 5.4.9\n",
      "Type 'citation(\"mclust\")' for citing this R package in publications.\n"
     ]
    },
    {
     "name": "stdout",
     "output_type": "stream",
     "text": [
      "------Calculating spatial graph...\n",
      "The graph contains 0 edges, 3987 cells.\n",
      "0.0000 neighbors per cell on average.\n",
      "Size of Input:  (3987, 3000)\n"
     ]
    },
    {
     "name": "stderr",
     "output_type": "stream",
     "text": [
      "100%|██████████████████████████████████████████████████████████████████████| 500/500 [01:13<00:00,  6.80it/s]\n"
     ]
    },
    {
     "name": "stdout",
     "output_type": "stream",
     "text": [
      "Human_Breast_Cancer_BAS2 4\n"
     ]
    },
    {
     "name": "stderr",
     "output_type": "stream",
     "text": [
      "Package 'mclust' version 5.4.9\n",
      "Type 'citation(\"mclust\")' for citing this R package in publications.\n"
     ]
    },
    {
     "name": "stdout",
     "output_type": "stream",
     "text": [
      "------Calculating spatial graph...\n",
      "The graph contains 0 edges, 3493 cells.\n",
      "0.0000 neighbors per cell on average.\n",
      "Size of Input:  (3493, 3000)\n"
     ]
    },
    {
     "name": "stderr",
     "output_type": "stream",
     "text": [
      "100%|██████████████████████████████████████████████████████████████████████| 500/500 [01:04<00:00,  7.81it/s]\n"
     ]
    },
    {
     "name": "stdout",
     "output_type": "stream",
     "text": [
      "Human_Ovarian_Cancer 4\n"
     ]
    },
    {
     "name": "stderr",
     "output_type": "stream",
     "text": [
      "Package 'mclust' version 5.4.9\n",
      "Type 'citation(\"mclust\")' for citing this R package in publications.\n"
     ]
    },
    {
     "name": "stdout",
     "output_type": "stream",
     "text": [
      "------Calculating spatial graph...\n",
      "The graph contains 18212 edges, 3138 cells.\n",
      "5.8037 neighbors per cell on average.\n",
      "Size of Input:  (3138, 3000)\n"
     ]
    },
    {
     "name": "stderr",
     "output_type": "stream",
     "text": [
      "100%|██████████████████████████████████████████████████████████████████████| 500/500 [01:11<00:00,  6.95it/s]\n"
     ]
    },
    {
     "name": "stdout",
     "output_type": "stream",
     "text": [
      "Human_Colorectal_Cancer 4\n"
     ]
    },
    {
     "name": "stderr",
     "output_type": "stream",
     "text": [
      "Package 'mclust' version 5.4.9\n",
      "Type 'citation(\"mclust\")' for citing this R package in publications.\n"
     ]
    },
    {
     "data": {
      "image/png": "[encoded data removed]",
      "text/plain": [
       "<Figure size 216x144 with 1 Axes>"
      ]
     },
     "metadata": {
      "needs_background": "light"
     },
     "output_type": "display_data"
    },
    {
     "data": {
      "image/png": "[encoded data removed]",
      "text/plain": [
       "<Figure size 216x144 with 1 Axes>"
      ]
     },
     "metadata": {
      "needs_background": "light"
     },
     "output_type": "display_data"
    },
    {
     "data": {
      "image/png": "[encoded data removed]",
      "text/plain": [
       "<Figure size 216x144 with 1 Axes>"
      ]
     },
     "metadata": {
      "needs_background": "light"
     },
     "output_type": "display_data"
    },
    {
     "data": {
      "image/png": "[encoded data removed]",
      "text/plain": [
       "<Figure size 216x144 with 1 Axes>"
      ]
     },
     "metadata": {
      "needs_background": "light"
     },
     "output_type": "display_data"
    },
    {
     "data": {
      "image/png": "[encoded data removed]",
      "text/plain": [
       "<Figure size 216x144 with 1 Axes>"
      ]
     },
     "metadata": {
      "needs_background": "light"
     },
     "output_type": "display_data"
    },
    {
     "data": {
      "image/png": "[encoded data removed]",
      "text/plain": [
       "<Figure size 216x144 with 1 Axes>"
      ]
     },
     "metadata": {
      "needs_background": "light"
     },
     "output_type": "display_data"
    },
    {
     "data": {
      "image/png": "[encoded data removed]",
      "text/plain": [
       "<Figure size 216x144 with 1 Axes>"
      ]
     },
     "metadata": {
      "needs_background": "light"
     },
     "output_type": "display_data"
    },
    {
     "data": {
      "image/png": "[encoded data removed]",
      "text/plain": [
       "<Figure size 216x144 with 1 Axes>"
      ]
     },
     "metadata": {
      "needs_background": "light"
     },
     "output_type": "display_data"
    },
    {
     "data": {
      "image/png": "[encoded data removed]",
      "text/plain": [
       "<Figure size 216x144 with 1 Axes>"
      ]
     },
     "metadata": {
      "needs_background": "light"
     },
     "output_type": "display_data"
    }
   ],
   "source": [
    "for dn in dns:\n",
    "    adata = sc.read_visium(f\"../../MIST_Visium_Tumors/{dn}\")   \n",
    "    adata.var_names_make_unique()\n",
    "    sc.pp.highly_variable_genes(adata, flavor=\"seurat_v3\", n_top_genes=3000)\n",
    "    sc.pp.normalize_total(adata, target_sum=1e4)\n",
    "    sc.pp.log1p(adata)    \n",
    "    STAGATE.Cal_Spatial_Net(adata, rad_cutoff=150)\n",
    "    STAGATE.Stats_Spatial_Net(adata)\n",
    "    adata = STAGATE.train_STAGATE(adata, alpha=0)\n",
    "    STAGATE_df = pd.DataFrame(data=adata.obsm['STAGATE'], index=adata.obs_names)\n",
    "    \n",
    "    df = pd.read_csv(f\"../cancer_region_detections/results_0722/Human_Breast_Cancer_BAS1/Human_Breast_Cancer_BAS1_MIST_detected.csv\")\n",
    "    n_clust = len(set(df.region_ind))\n",
    "    input_fn = f\"STAGATE_mclust_Visium_Tumors_input/{dn}_STAGATE_obsm.csv\"\n",
    "    STAGATE_df.to_csv(input_fn)\n",
    "    out_fn = f\"STAGATE_mclust_Visium_Tumors_output/{dn}.csv\"\n",
    "    \n",
    "    cmd = f'Rscript run_mclust.R --inpath {input_fn} --outpath {out_fn} --g {n_clust}'\n",
    "    print(dn, n_clust)\n",
    "    os.system(cmd) "
   ]
  },
  {
   "cell_type": "code",
   "execution_count": 18,
   "id": "abc4cac8",
   "metadata": {},
   "outputs": [
    {
     "name": "stdout",
     "output_type": "stream",
     "text": [
      "Human_Breast_Cancer_BAS1.csv\r\n",
      "Human_Breast_Cancer_BAS2.csv\r\n",
      "Human_Breast_Cancer_Ductal_Carcinoma_FFPE.csv\r\n",
      "Human_Colorectal_Cancer.csv\r\n",
      "Human_Glioblastoma.csv\r\n",
      "Human_Invasive_Ductal_Carcinoma.csv\r\n",
      "Human_Ovarian_Cancer.csv\r\n",
      "Human_Prostate_Cancer_Acinar_Cell_Carcinoma_FFPE.csv\r\n",
      "Human_Prostate_Cancer_Adenocarcinoma_FFPE.csv\r\n"
     ]
    }
   ],
   "source": [
    "ls STAGATE_mclust_13_output"
   ]
  },
  {
   "cell_type": "code",
   "execution_count": null,
   "id": "42df71ae",
   "metadata": {},
   "outputs": [],
   "source": []
  }
 ],
 "metadata": {
  "kernelspec": {
   "display_name": "Python 3 (ipykernel)",
   "language": "python",
   "name": "python3"
  },
  "language_info": {
   "codemirror_mode": {
    "name": "ipython",
    "version": 3
   },
   "file_extension": ".py",
   "mimetype": "text/x-python",
   "name": "python",
   "nbconvert_exporter": "python",
   "pygments_lexer": "ipython3",
   "version": "3.7.13"
  }
 },
 "nbformat": 4,
 "nbformat_minor": 5
}
