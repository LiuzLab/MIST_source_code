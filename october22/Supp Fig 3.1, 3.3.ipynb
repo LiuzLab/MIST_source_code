{
 "cells": [
  {
   "cell_type": "code",
   "execution_count": 21,
   "id": "e5218291",
   "metadata": {},
   "outputs": [],
   "source": [
    "import pandas as pd\n",
    "import seaborn as sns\n",
    "from matplotlib import pyplot as plt\n",
    "import numpy as np"
   ]
  },
  {
   "cell_type": "code",
   "execution_count": 2,
   "id": "6f4ffa38",
   "metadata": {},
   "outputs": [],
   "source": [
    "folder = \"HO_performance_with_SAVER/\"\n",
    "data_names = ['MouseWT', 'MouseAD', 'Melanoma', 'Prostate']"
   ]
  },
  {
   "cell_type": "code",
   "execution_count": 10,
   "id": "1a1f0d90",
   "metadata": {},
   "outputs": [],
   "source": [
    "slide_perfs = []\n",
    "for dn in data_names:\n",
    "    df = pd.read_csv(f\"{folder}/{dn}/performance/slide_level_results.csv\", index_col=0)\n",
    "    df.replace('spImpute', 'MIST', inplace=True)\n",
    "    df['data'] = dn\n",
    "    slide_perfs.append(df)\n",
    "slide_perfs = pd.concat(slide_perfs)"
   ]
  },
  {
   "cell_type": "code",
   "execution_count": 11,
   "id": "0648ebd5",
   "metadata": {},
   "outputs": [
    {
     "data": {
      "text/plain": [
       "<seaborn.axisgrid.FacetGrid at 0x7f7b434cac40>"
      ]
     },
     "execution_count": 11,
     "metadata": {},
     "output_type": "execute_result"
    },
    {
     "data": {
      "image/png": "[encoded data removed]",
      "text/plain": [
       "<Figure size 1440x360 with 4 Axes>"
      ]
     },
     "metadata": {
      "needs_background": "light"
     },
     "output_type": "display_data"
    }
   ],
   "source": [
    "sns.catplot(data=slide_perfs, x='ModelName', y='PCC', kind='strip', sharey=False, col='data')"
   ]
  },
  {
   "cell_type": "code",
   "execution_count": 12,
   "id": "f9baff13",
   "metadata": {},
   "outputs": [
    {
     "data": {
      "text/html": [
       "<div>\n",
       "<style scoped>\n",
       "    .dataframe tbody tr th:only-of-type {\n",
       "        vertical-align: middle;\n",
       "    }\n",
       "\n",
       "    .dataframe tbody tr th {\n",
       "        vertical-align: top;\n",
       "    }\n",
       "\n",
       "    .dataframe thead th {\n",
       "        text-align: right;\n",
       "    }\n",
       "</style>\n",
       "<table border=\"1\" class=\"dataframe\">\n",
       "  <thead>\n",
       "    <tr style=\"text-align: right;\">\n",
       "      <th></th>\n",
       "      <th>RMSE</th>\n",
       "      <th>MAPE</th>\n",
       "      <th>SNR</th>\n",
       "      <th>PCC</th>\n",
       "      <th>ModelName</th>\n",
       "      <th>hoMR</th>\n",
       "      <th>impMR</th>\n",
       "      <th>redMR</th>\n",
       "      <th>cvFold</th>\n",
       "      <th>data</th>\n",
       "    </tr>\n",
       "  </thead>\n",
       "  <tbody>\n",
       "    <tr>\n",
       "      <th>0</th>\n",
       "      <td>0.951621</td>\n",
       "      <td>0.106325</td>\n",
       "      <td>3.359624</td>\n",
       "      <td>0.720365</td>\n",
       "      <td>MIST</td>\n",
       "      <td>0.423434</td>\n",
       "      <td>0.000195</td>\n",
       "      <td>0.423238</td>\n",
       "      <td>0</td>\n",
       "      <td>MouseWT</td>\n",
       "    </tr>\n",
       "    <tr>\n",
       "      <th>1</th>\n",
       "      <td>0.994848</td>\n",
       "      <td>0.109045</td>\n",
       "      <td>3.320680</td>\n",
       "      <td>0.696334</td>\n",
       "      <td>mcImpute</td>\n",
       "      <td>0.423434</td>\n",
       "      <td>0.000665</td>\n",
       "      <td>0.422768</td>\n",
       "      <td>0</td>\n",
       "      <td>MouseWT</td>\n",
       "    </tr>\n",
       "    <tr>\n",
       "      <th>2</th>\n",
       "      <td>1.114231</td>\n",
       "      <td>0.115074</td>\n",
       "      <td>2.998501</td>\n",
       "      <td>0.711805</td>\n",
       "      <td>MAGIC</td>\n",
       "      <td>0.423434</td>\n",
       "      <td>0.000000</td>\n",
       "      <td>0.423434</td>\n",
       "      <td>0</td>\n",
       "      <td>MouseWT</td>\n",
       "    </tr>\n",
       "    <tr>\n",
       "      <th>3</th>\n",
       "      <td>1.654913</td>\n",
       "      <td>0.160092</td>\n",
       "      <td>2.468935</td>\n",
       "      <td>0.588758</td>\n",
       "      <td>spKNN</td>\n",
       "      <td>0.423434</td>\n",
       "      <td>0.009947</td>\n",
       "      <td>0.413487</td>\n",
       "      <td>0</td>\n",
       "      <td>MouseWT</td>\n",
       "    </tr>\n",
       "    <tr>\n",
       "      <th>4</th>\n",
       "      <td>2.639549</td>\n",
       "      <td>0.251409</td>\n",
       "      <td>2.126689</td>\n",
       "      <td>0.320682</td>\n",
       "      <td>knnSmooth</td>\n",
       "      <td>0.423434</td>\n",
       "      <td>0.048790</td>\n",
       "      <td>0.374643</td>\n",
       "      <td>0</td>\n",
       "      <td>MouseWT</td>\n",
       "    </tr>\n",
       "    <tr>\n",
       "      <th>...</th>\n",
       "      <td>...</td>\n",
       "      <td>...</td>\n",
       "      <td>...</td>\n",
       "      <td>...</td>\n",
       "      <td>...</td>\n",
       "      <td>...</td>\n",
       "      <td>...</td>\n",
       "      <td>...</td>\n",
       "      <td>...</td>\n",
       "      <td>...</td>\n",
       "    </tr>\n",
       "    <tr>\n",
       "      <th>115</th>\n",
       "      <td>0.736175</td>\n",
       "      <td>0.397069</td>\n",
       "      <td>1.813561</td>\n",
       "      <td>0.702013</td>\n",
       "      <td>mcImpute</td>\n",
       "      <td>0.436921</td>\n",
       "      <td>0.000747</td>\n",
       "      <td>0.436174</td>\n",
       "      <td>4</td>\n",
       "      <td>Prostate</td>\n",
       "    </tr>\n",
       "    <tr>\n",
       "      <th>116</th>\n",
       "      <td>0.859251</td>\n",
       "      <td>0.333910</td>\n",
       "      <td>1.313248</td>\n",
       "      <td>0.668649</td>\n",
       "      <td>MAGIC</td>\n",
       "      <td>0.436921</td>\n",
       "      <td>0.000118</td>\n",
       "      <td>0.436804</td>\n",
       "      <td>4</td>\n",
       "      <td>Prostate</td>\n",
       "    </tr>\n",
       "    <tr>\n",
       "      <th>117</th>\n",
       "      <td>0.942818</td>\n",
       "      <td>0.391879</td>\n",
       "      <td>0.998365</td>\n",
       "      <td>0.666524</td>\n",
       "      <td>spKNN</td>\n",
       "      <td>0.436921</td>\n",
       "      <td>0.013451</td>\n",
       "      <td>0.423470</td>\n",
       "      <td>4</td>\n",
       "      <td>Prostate</td>\n",
       "    </tr>\n",
       "    <tr>\n",
       "      <th>118</th>\n",
       "      <td>1.393700</td>\n",
       "      <td>0.738810</td>\n",
       "      <td>1.173355</td>\n",
       "      <td>0.450588</td>\n",
       "      <td>knnSmooth</td>\n",
       "      <td>0.436921</td>\n",
       "      <td>0.053156</td>\n",
       "      <td>0.383765</td>\n",
       "      <td>4</td>\n",
       "      <td>Prostate</td>\n",
       "    </tr>\n",
       "    <tr>\n",
       "      <th>119</th>\n",
       "      <td>1.559412</td>\n",
       "      <td>0.598764</td>\n",
       "      <td>-0.912969</td>\n",
       "      <td>0.657317</td>\n",
       "      <td>SAVER</td>\n",
       "      <td>0.436921</td>\n",
       "      <td>0.000000</td>\n",
       "      <td>0.436921</td>\n",
       "      <td>4</td>\n",
       "      <td>Prostate</td>\n",
       "    </tr>\n",
       "  </tbody>\n",
       "</table>\n",
       "<p>120 rows × 10 columns</p>\n",
       "</div>"
      ],
      "text/plain": [
       "         RMSE      MAPE       SNR       PCC  ModelName      hoMR     impMR  \\\n",
       "0    0.951621  0.106325  3.359624  0.720365       MIST  0.423434  0.000195   \n",
       "1    0.994848  0.109045  3.320680  0.696334   mcImpute  0.423434  0.000665   \n",
       "2    1.114231  0.115074  2.998501  0.711805      MAGIC  0.423434  0.000000   \n",
       "3    1.654913  0.160092  2.468935  0.588758      spKNN  0.423434  0.009947   \n",
       "4    2.639549  0.251409  2.126689  0.320682  knnSmooth  0.423434  0.048790   \n",
       "..        ...       ...       ...       ...        ...       ...       ...   \n",
       "115  0.736175  0.397069  1.813561  0.702013   mcImpute  0.436921  0.000747   \n",
       "116  0.859251  0.333910  1.313248  0.668649      MAGIC  0.436921  0.000118   \n",
       "117  0.942818  0.391879  0.998365  0.666524      spKNN  0.436921  0.013451   \n",
       "118  1.393700  0.738810  1.173355  0.450588  knnSmooth  0.436921  0.053156   \n",
       "119  1.559412  0.598764 -0.912969  0.657317      SAVER  0.436921  0.000000   \n",
       "\n",
       "        redMR  cvFold      data  \n",
       "0    0.423238       0   MouseWT  \n",
       "1    0.422768       0   MouseWT  \n",
       "2    0.423434       0   MouseWT  \n",
       "3    0.413487       0   MouseWT  \n",
       "4    0.374643       0   MouseWT  \n",
       "..        ...     ...       ...  \n",
       "115  0.436174       4  Prostate  \n",
       "116  0.436804       4  Prostate  \n",
       "117  0.423470       4  Prostate  \n",
       "118  0.383765       4  Prostate  \n",
       "119  0.436921       4  Prostate  \n",
       "\n",
       "[120 rows x 10 columns]"
      ]
     },
     "execution_count": 12,
     "metadata": {},
     "output_type": "execute_result"
    }
   ],
   "source": [
    "slide_perfs.reset_index(drop=True, inplace=True)\n",
    "slide_perfs"
   ]
  },
  {
   "cell_type": "code",
   "execution_count": 13,
   "id": "9e3fc0de",
   "metadata": {},
   "outputs": [],
   "source": [
    "slide_perfs.to_excel(\"Supp. Fig3.1.xlsx\", sheet_name='Supp. Fig3.1')"
   ]
  },
  {
   "cell_type": "code",
   "execution_count": 48,
   "id": "d87b082b",
   "metadata": {},
   "outputs": [],
   "source": [
    "## 3.3\n",
    "from glob import glob\n",
    "from scipy.stats import spearmanr"
   ]
  },
  {
   "cell_type": "code",
   "execution_count": 49,
   "id": "47e9c15d",
   "metadata": {},
   "outputs": [
    {
     "name": "stdout",
     "output_type": "stream",
     "text": [
      "corr(HO-Observed) = 0.6425745910739477\n",
      "corr(HO-MIST) = 0.9641582712018331\n"
     ]
    },
    {
     "data": {
      "image/png": "[encoded data removed]",
      "text/plain": [
       "<Figure size 576x288 with 2 Axes>"
      ]
     },
     "metadata": {
      "needs_background": "light"
     },
     "output_type": "display_data"
    }
   ],
   "source": [
    "## Mouse WT\n",
    "ho_vals, mist_vals, ori_vals = [], [], []\n",
    "for i in range(5):\n",
    "    df_ho = np.log2(pd.read_csv(f\"data/MouseWT/MouseWT/ho_data_{i}.csv\", index_col=0)['Gm29216'] + 1)\n",
    "    df_mask = np.log2(pd.read_csv(f\"data/MouseWT/MouseWT/ho_mask_{i}.csv\", index_col=0)['Gm29216'] + 1)\n",
    "    df_mist = np.log2(pd.read_csv(glob(f\"data/MouseWT/MouseWT/MIST_*_{i}.csv\")[0], index_col=0)['Gm29216'] + 1)\n",
    "    df_ori = np.log2(pd.read_csv(f\"data/MouseWT/MouseWT/norm.csv\", index_col=0)['Gm29216'] + 1)\n",
    "    ho_vals += list(df_ho)\n",
    "    mist_vals += list(df_mist)\n",
    "    ori_vals += list(df_ori)\n",
    "f1, (ax11, ax12) = plt.subplots(1, 2, figsize=(8,4))\n",
    "ax11.scatter(ho_vals, ori_vals)\n",
    "ax12.scatter(mist_vals, ori_vals)\n",
    "\n",
    "print(f\"corr(HO-Observed) = {spearmanr(ho_vals, ori_vals)[0]}\")\n",
    "print(f\"corr(HO-MIST) = {spearmanr(mist_vals, ori_vals)[0]}\")"
   ]
  },
  {
   "cell_type": "code",
   "execution_count": 38,
   "id": "c464f1d3",
   "metadata": {},
   "outputs": [],
   "source": [
    "df1 = pd.DataFrame({'Gm29216 (MouseWT) HO':  ho_vals,\n",
    "                   'Gm29216 (MouseWT) Observed':  ori_vals,\n",
    "                   'Gm29216 (MouseWT) MIST':  mist_vals})"
   ]
  },
  {
   "cell_type": "code",
   "execution_count": 42,
   "id": "9822a73b",
   "metadata": {},
   "outputs": [
    {
     "name": "stdout",
     "output_type": "stream",
     "text": [
      "corr(HO-Observed) = 0.6425747300508888\n",
      "corr(HO-MIST) = 0.9637430785479688\n"
     ]
    }
   ],
   "source": [
    "### MouseAD\n",
    "ho_vals, mist_vals, ori_vals = [], [], []\n",
    "for i in range(5):\n",
    "    df_ho = np.log2(pd.read_csv(f\"data/MouseAD/MouseAD/ho_data_{i}.csv\", index_col=0)['mt-Rnr1'] + 1)\n",
    "    df_mask = np.log2(pd.read_csv(f\"data/MouseAD/MouseAD/ho_mask_{i}.csv\", index_col=0)['mt-Rnr1'] + 1)\n",
    "    df_mist = np.log2(pd.read_csv(glob(f\"data/MouseAD/MouseAD/MIST_*_{i}.csv\")[0], index_col=0)['mt-Rnr1'] + 1)\n",
    "    df_ori = np.log2(pd.read_csv(f\"data/MouseAD/MouseAD/norm.csv\", index_col=0)['mt-Rnr1'] + 1)\n",
    "    ho_vals += list(df_ho)\n",
    "    mist_vals += list(df_mist)\n",
    "    ori_vals += list(df_ori)\n",
    "\n",
    "f2, (ax21, ax22) = plt.subplots(1, 2, figsize=(8,4))\n",
    "ax21.scatter(ho_vals, ori_vals)\n",
    "ax22.scatter(mist_vals, ori_vals)\n",
    "\n",
    "print(f\"corr(HO-Observed) = {spearmanr(ho_vals, ori_vals)[0]}\")\n",
    "print(f\"corr(HO-MIST) = {spearmanr(mist_vals, ori_vals)[0]}\")\n",
    "    \n",
    "df2 = pd.DataFrame({'mt-Rnr1 (MouseAD) HO':  ho_vals,\n",
    "                   'mt-Rnr1 (MouseAD) Observed':  ori_vals,\n",
    "                   'mt-Rnr1 (MouseAD) MIST':  mist_vals})    "
   ]
  },
  {
   "cell_type": "code",
   "execution_count": 46,
   "id": "64fae9b5",
   "metadata": {},
   "outputs": [
    {
     "name": "stdout",
     "output_type": "stream",
     "text": [
      "corr(HO-Observed) = 0.6425743109181178\n",
      "corr(HO-MIST) = 0.965251943415212\n"
     ]
    },
    {
     "data": {
      "image/png": "[encoded data removed]",
      "text/plain": [
       "<Figure size 576x288 with 2 Axes>"
      ]
     },
     "metadata": {
      "needs_background": "light"
     },
     "output_type": "display_data"
    }
   ],
   "source": [
    "### Prostate\n",
    "ho_vals, mist_vals, ori_vals = [], [], []\n",
    "for i in range(5):\n",
    "    df_ho = np.log2(pd.read_csv(f\"data/Prostate/Prostate/ho_data_{i}.csv\", index_col=0)['MYL9 ENSG00000101335'] + 1)\n",
    "    df_mask = np.log2(pd.read_csv(f\"data/Prostate/Prostate/ho_mask_{i}.csv\", index_col=0)['MYL9 ENSG00000101335'] + 1)\n",
    "    df_mist = np.log2(pd.read_csv(glob(f\"data/Prostate/Prostate/MIST_*_{i}.csv\")[0], index_col=0)['MYL9 ENSG00000101335'] + 1)\n",
    "    df_ori = np.log2(pd.read_csv(f\"data/Prostate/Prostate/norm.csv\", index_col=0)['MYL9 ENSG00000101335'] + 1)\n",
    "    ho_vals += list(df_ho)\n",
    "    mist_vals += list(df_mist)\n",
    "    ori_vals += list(df_ori)\n",
    "\n",
    "f3, (ax31, ax32) = plt.subplots(1, 2, figsize=(8,4))\n",
    "ax31.scatter(ho_vals, ori_vals)\n",
    "ax32.scatter(mist_vals, ori_vals)\n",
    "\n",
    "print(f\"corr(HO-Observed) = {spearmanr(ho_vals, ori_vals)[0]}\")\n",
    "print(f\"corr(HO-MIST) = {spearmanr(mist_vals, ori_vals)[0]}\")\n",
    "    \n",
    "df3 = pd.DataFrame({'MYL9 (Prostate) HO':  ho_vals,\n",
    "                   'MYL9 (Prostate) Observed':  ori_vals,\n",
    "                   'MYL9 (Prostate) MIST':  mist_vals})    "
   ]
  },
  {
   "cell_type": "code",
   "execution_count": 55,
   "id": "695149e3",
   "metadata": {},
   "outputs": [],
   "source": [
    "supp33_df = pd.concat([df1, df2, df3], axis=1)"
   ]
  },
  {
   "cell_type": "code",
   "execution_count": 51,
   "id": "af7cc489",
   "metadata": {},
   "outputs": [
    {
     "data": {
      "text/html": [
       "<div>\n",
       "<style scoped>\n",
       "    .dataframe tbody tr th:only-of-type {\n",
       "        vertical-align: middle;\n",
       "    }\n",
       "\n",
       "    .dataframe tbody tr th {\n",
       "        vertical-align: top;\n",
       "    }\n",
       "\n",
       "    .dataframe thead th {\n",
       "        text-align: right;\n",
       "    }\n",
       "</style>\n",
       "<table border=\"1\" class=\"dataframe\">\n",
       "  <thead>\n",
       "    <tr style=\"text-align: right;\">\n",
       "      <th></th>\n",
       "      <th>Gm29216 (MouseWT) HO</th>\n",
       "      <th>Gm29216 (MouseWT) Observed</th>\n",
       "      <th>Gm29216 (MouseWT) MIST</th>\n",
       "    </tr>\n",
       "  </thead>\n",
       "  <tbody>\n",
       "    <tr>\n",
       "      <th>0</th>\n",
       "      <td>14.169142</td>\n",
       "      <td>14.169142</td>\n",
       "      <td>14.169142</td>\n",
       "    </tr>\n",
       "    <tr>\n",
       "      <th>1</th>\n",
       "      <td>0.000000</td>\n",
       "      <td>14.231821</td>\n",
       "      <td>14.229800</td>\n",
       "    </tr>\n",
       "    <tr>\n",
       "      <th>2</th>\n",
       "      <td>0.000000</td>\n",
       "      <td>14.157031</td>\n",
       "      <td>13.981519</td>\n",
       "    </tr>\n",
       "    <tr>\n",
       "      <th>3</th>\n",
       "      <td>13.808663</td>\n",
       "      <td>13.808663</td>\n",
       "      <td>13.808663</td>\n",
       "    </tr>\n",
       "    <tr>\n",
       "      <th>4</th>\n",
       "      <td>13.490224</td>\n",
       "      <td>13.490224</td>\n",
       "      <td>13.490224</td>\n",
       "    </tr>\n",
       "    <tr>\n",
       "      <th>...</th>\n",
       "      <td>...</td>\n",
       "      <td>...</td>\n",
       "      <td>...</td>\n",
       "    </tr>\n",
       "    <tr>\n",
       "      <th>2230</th>\n",
       "      <td>13.937282</td>\n",
       "      <td>13.937282</td>\n",
       "      <td>13.937282</td>\n",
       "    </tr>\n",
       "    <tr>\n",
       "      <th>2231</th>\n",
       "      <td>0.000000</td>\n",
       "      <td>14.199902</td>\n",
       "      <td>14.080529</td>\n",
       "    </tr>\n",
       "    <tr>\n",
       "      <th>2232</th>\n",
       "      <td>14.139312</td>\n",
       "      <td>14.139312</td>\n",
       "      <td>14.139312</td>\n",
       "    </tr>\n",
       "    <tr>\n",
       "      <th>2233</th>\n",
       "      <td>0.000000</td>\n",
       "      <td>13.962806</td>\n",
       "      <td>13.814979</td>\n",
       "    </tr>\n",
       "    <tr>\n",
       "      <th>2234</th>\n",
       "      <td>13.713816</td>\n",
       "      <td>13.713816</td>\n",
       "      <td>13.713816</td>\n",
       "    </tr>\n",
       "  </tbody>\n",
       "</table>\n",
       "<p>2235 rows × 3 columns</p>\n",
       "</div>"
      ],
      "text/plain": [
       "      Gm29216 (MouseWT) HO  Gm29216 (MouseWT) Observed  Gm29216 (MouseWT) MIST\n",
       "0                14.169142                   14.169142               14.169142\n",
       "1                 0.000000                   14.231821               14.229800\n",
       "2                 0.000000                   14.157031               13.981519\n",
       "3                13.808663                   13.808663               13.808663\n",
       "4                13.490224                   13.490224               13.490224\n",
       "...                    ...                         ...                     ...\n",
       "2230             13.937282                   13.937282               13.937282\n",
       "2231              0.000000                   14.199902               14.080529\n",
       "2232             14.139312                   14.139312               14.139312\n",
       "2233              0.000000                   13.962806               13.814979\n",
       "2234             13.713816                   13.713816               13.713816\n",
       "\n",
       "[2235 rows x 3 columns]"
      ]
     },
     "execution_count": 51,
     "metadata": {},
     "output_type": "execute_result"
    }
   ],
   "source": [
    "supp33_df.to_excel(\"Supp. Fig3.3.\")"
   ]
  },
  {
   "cell_type": "code",
   "execution_count": null,
   "id": "686e7e9b",
   "metadata": {},
   "outputs": [],
   "source": []
  }
 ],
 "metadata": {
  "kernelspec": {
   "display_name": "Python 3 (ipykernel)",
   "language": "python",
   "name": "python3"
  },
  "language_info": {
   "codemirror_mode": {
    "name": "ipython",
    "version": 3
   },
   "file_extension": ".py",
   "mimetype": "text/x-python",
   "name": "python",
   "nbconvert_exporter": "python",
   "pygments_lexer": "ipython3",
   "version": "3.9.11"
  }
 },
 "nbformat": 4,
 "nbformat_minor": 5
}
